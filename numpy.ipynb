{
  "nbformat": 4,
  "nbformat_minor": 0,
  "metadata": {
    "colab": {
      "name": "numpy.ipynb",
      "provenance": [],
      "authorship_tag": "ABX9TyP/ELYQK+WemHYVZQ1mZa8f"
    },
    "kernelspec": {
      "name": "python3",
      "display_name": "Python 3"
    }
  },
  "cells": [
    {
      "cell_type": "code",
      "metadata": {
        "colab": {
          "base_uri": "https://localhost:8080/"
        },
        "id": "HRuc1Gxq50fb",
        "outputId": "9abf23b4-cc29-47f4-aa69-209b2a507c0d"
      },
      "source": [
        "print('Hello, world')"
      ],
      "execution_count": null,
      "outputs": [
        {
          "output_type": "stream",
          "text": [
            "Hello, world\n"
          ],
          "name": "stdout"
        }
      ]
    }
  ]
}