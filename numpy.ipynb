{
  "nbformat": 4,
  "nbformat_minor": 0,
  "metadata": {
    "colab": {
      "name": "numpy.ipynb",
      "provenance": [],
      "collapsed_sections": [
        "p6MRx0AvDzYH",
        "odRZCm_xDiDj",
        "6k-BKbGHDvpE",
        "0uKhk-xVFUi6",
        "yMBNz_rSGwYO"
      ],
      "authorship_tag": "ABX9TyPZMpsN+iwOw9+19YgXfHnD"
    },
    "kernelspec": {
      "name": "python3",
      "display_name": "Python 3"
    }
  },
  "cells": [
    {
      "cell_type": "markdown",
      "metadata": {
        "id": "Z2I3yPqxDz05"
      },
      "source": [
        "# Biblioteka numpy"
      ]
    },
    {
      "cell_type": "markdown",
      "metadata": {
        "id": "p6MRx0AvDzYH"
      },
      "source": [
        "## Instalacja"
      ]
    },
    {
      "cell_type": "code",
      "metadata": {
        "colab": {
          "base_uri": "https://localhost:8080/"
        },
        "id": "DqKybz13BThr",
        "outputId": "578a4e63-09c9-4006-eb2a-9b284e648846"
      },
      "source": [
        "pip install numpy"
      ],
      "execution_count": null,
      "outputs": [
        {
          "output_type": "stream",
          "text": [
            "Requirement already satisfied: numpy in /usr/local/lib/python3.7/dist-packages (1.19.5)\n"
          ],
          "name": "stdout"
        }
      ]
    },
    {
      "cell_type": "code",
      "metadata": {
        "colab": {
          "base_uri": "https://localhost:8080/",
          "height": 35
        },
        "id": "FqmACqBaBVC4",
        "outputId": "516394c1-33cd-4e7b-f209-d892bac15fbc"
      },
      "source": [
        "import numpy as np\n",
        "np.__version__"
      ],
      "execution_count": 1,
      "outputs": [
        {
          "output_type": "execute_result",
          "data": {
            "application/vnd.google.colaboratory.intrinsic+json": {
              "type": "string"
            },
            "text/plain": [
              "'1.19.5'"
            ]
          },
          "metadata": {
            "tags": []
          },
          "execution_count": 1
        }
      ]
    },
    {
      "cell_type": "code",
      "metadata": {
        "id": "hLvonKIBBd0s"
      },
      "source": [
        "help(np.array)"
      ],
      "execution_count": null,
      "outputs": []
    },
    {
      "cell_type": "markdown",
      "metadata": {
        "id": "odRZCm_xDiDj"
      },
      "source": [
        "## Tablice jednowymiarowe"
      ]
    },
    {
      "cell_type": "code",
      "metadata": {
        "id": "-ddK5DpUCuAB"
      },
      "source": [
        "x = np.array([1, 3])"
      ],
      "execution_count": null,
      "outputs": []
    },
    {
      "cell_type": "code",
      "metadata": {
        "colab": {
          "base_uri": "https://localhost:8080/"
        },
        "id": "dZveOChSDFyj",
        "outputId": "70779158-e8bf-48cf-bf13-82563e359a31"
      },
      "source": [
        "x"
      ],
      "execution_count": null,
      "outputs": [
        {
          "output_type": "execute_result",
          "data": {
            "text/plain": [
              "array([1, 3])"
            ]
          },
          "metadata": {
            "tags": []
          },
          "execution_count": 5
        }
      ]
    },
    {
      "cell_type": "code",
      "metadata": {
        "colab": {
          "base_uri": "https://localhost:8080/"
        },
        "id": "8jXEcuZ6CzFb",
        "outputId": "27b235a9-d1e8-4fcb-9192-3da20dedf955"
      },
      "source": [
        "type(x)"
      ],
      "execution_count": null,
      "outputs": [
        {
          "output_type": "execute_result",
          "data": {
            "text/plain": [
              "numpy.ndarray"
            ]
          },
          "metadata": {
            "tags": []
          },
          "execution_count": 6
        }
      ]
    },
    {
      "cell_type": "code",
      "metadata": {
        "colab": {
          "base_uri": "https://localhost:8080/"
        },
        "id": "wuxRlZUdC12n",
        "outputId": "0d0cc957-7cbc-4af3-e519-2d9ac194b4b6"
      },
      "source": [
        "x.shape"
      ],
      "execution_count": null,
      "outputs": [
        {
          "output_type": "execute_result",
          "data": {
            "text/plain": [
              "(2,)"
            ]
          },
          "metadata": {
            "tags": []
          },
          "execution_count": 7
        }
      ]
    },
    {
      "cell_type": "code",
      "metadata": {
        "colab": {
          "base_uri": "https://localhost:8080/"
        },
        "id": "tPLc2UDuC3WP",
        "outputId": "ae69e1ed-08f8-4190-aa53-fc0464a74b11"
      },
      "source": [
        "x.dtype"
      ],
      "execution_count": null,
      "outputs": [
        {
          "output_type": "execute_result",
          "data": {
            "text/plain": [
              "dtype('int64')"
            ]
          },
          "metadata": {
            "tags": []
          },
          "execution_count": 9
        }
      ]
    },
    {
      "cell_type": "code",
      "metadata": {
        "colab": {
          "base_uri": "https://localhost:8080/"
        },
        "id": "DH_wGCxNDRMD",
        "outputId": "cf52cd76-58ca-41d0-9016-2f06bab38b2f"
      },
      "source": [
        "x = np.array([1.3, 2.3, 1.4])\n",
        "x"
      ],
      "execution_count": null,
      "outputs": [
        {
          "output_type": "execute_result",
          "data": {
            "text/plain": [
              "array([1.3, 2.3, 1.4])"
            ]
          },
          "metadata": {
            "tags": []
          },
          "execution_count": 10
        }
      ]
    },
    {
      "cell_type": "markdown",
      "metadata": {
        "id": "6k-BKbGHDvpE"
      },
      "source": [
        "## Tablice dwuwymiarowe"
      ]
    },
    {
      "cell_type": "code",
      "metadata": {
        "id": "UVyMSMWuDykj"
      },
      "source": [
        "x = np.array([[1, 2], [3, 4]])"
      ],
      "execution_count": null,
      "outputs": []
    },
    {
      "cell_type": "code",
      "metadata": {
        "colab": {
          "base_uri": "https://localhost:8080/"
        },
        "id": "e5wBNRzaEBTm",
        "outputId": "d97d0cda-9627-450e-97c3-d913e436686f"
      },
      "source": [
        "x"
      ],
      "execution_count": null,
      "outputs": [
        {
          "output_type": "execute_result",
          "data": {
            "text/plain": [
              "array([[1, 2],\n",
              "       [3, 4]])"
            ]
          },
          "metadata": {
            "tags": []
          },
          "execution_count": 21
        }
      ]
    },
    {
      "cell_type": "code",
      "metadata": {
        "colab": {
          "base_uri": "https://localhost:8080/"
        },
        "id": "isobP10yETEA",
        "outputId": "54cbb1f3-dc72-4f9e-c828-f9c1543650e9"
      },
      "source": [
        "x.ndim"
      ],
      "execution_count": null,
      "outputs": [
        {
          "output_type": "execute_result",
          "data": {
            "text/plain": [
              "2"
            ]
          },
          "metadata": {
            "tags": []
          },
          "execution_count": 23
        }
      ]
    },
    {
      "cell_type": "code",
      "metadata": {
        "colab": {
          "base_uri": "https://localhost:8080/"
        },
        "id": "g42bsNQaEU6L",
        "outputId": "ea524fa4-9cf0-406c-a0bd-2afe73fd29ae"
      },
      "source": [
        "x.shape"
      ],
      "execution_count": null,
      "outputs": [
        {
          "output_type": "execute_result",
          "data": {
            "text/plain": [
              "(2, 2)"
            ]
          },
          "metadata": {
            "tags": []
          },
          "execution_count": 25
        }
      ]
    },
    {
      "cell_type": "code",
      "metadata": {
        "colab": {
          "base_uri": "https://localhost:8080/"
        },
        "id": "XIX5uXv_EYTJ",
        "outputId": "eca76c38-8bca-492a-d0d8-61a52c24547a"
      },
      "source": [
        "x.dtype"
      ],
      "execution_count": null,
      "outputs": [
        {
          "output_type": "execute_result",
          "data": {
            "text/plain": [
              "dtype('int64')"
            ]
          },
          "metadata": {
            "tags": []
          },
          "execution_count": 27
        }
      ]
    },
    {
      "cell_type": "code",
      "metadata": {
        "colab": {
          "base_uri": "https://localhost:8080/"
        },
        "id": "tRxMQ0TxEvxx",
        "outputId": "6c32d538-487f-4e7e-c7f8-70c82c3b4338"
      },
      "source": [
        "x = np.array([[1, 2, 3], [4, 5, 6]])\n",
        "x"
      ],
      "execution_count": null,
      "outputs": [
        {
          "output_type": "execute_result",
          "data": {
            "text/plain": [
              "array([[1, 2, 3],\n",
              "       [4, 5, 6]])"
            ]
          },
          "metadata": {
            "tags": []
          },
          "execution_count": 36
        }
      ]
    },
    {
      "cell_type": "markdown",
      "metadata": {
        "id": "0uKhk-xVFUi6"
      },
      "source": [
        "## Tablice trójwymiarowe"
      ]
    },
    {
      "cell_type": "code",
      "metadata": {
        "id": "QwxzcZ2ME2WB"
      },
      "source": [
        "x = np.array(\n",
        "    [[[1, 2, 3],\n",
        "      [4, 5, 6]],\n",
        "     [[7, 8, 9],\n",
        "      [10, 11, 12]]])"
      ],
      "execution_count": null,
      "outputs": []
    },
    {
      "cell_type": "code",
      "metadata": {
        "colab": {
          "base_uri": "https://localhost:8080/"
        },
        "id": "tNEpXHknFsww",
        "outputId": "7ce0e0b6-12bb-4480-9cb3-19db72c2f904"
      },
      "source": [
        "x"
      ],
      "execution_count": null,
      "outputs": [
        {
          "output_type": "execute_result",
          "data": {
            "text/plain": [
              "array([[[ 1,  2,  3],\n",
              "        [ 4,  5,  6]],\n",
              "\n",
              "       [[ 7,  8,  9],\n",
              "        [10, 11, 12]]])"
            ]
          },
          "metadata": {
            "tags": []
          },
          "execution_count": 44
        }
      ]
    },
    {
      "cell_type": "code",
      "metadata": {
        "colab": {
          "base_uri": "https://localhost:8080/"
        },
        "id": "tfu4ovIrF6P2",
        "outputId": "62f9290e-73e5-4f5e-a458-5f012d1420a7"
      },
      "source": [
        "x.ndim"
      ],
      "execution_count": null,
      "outputs": [
        {
          "output_type": "execute_result",
          "data": {
            "text/plain": [
              "3"
            ]
          },
          "metadata": {
            "tags": []
          },
          "execution_count": 46
        }
      ]
    },
    {
      "cell_type": "code",
      "metadata": {
        "colab": {
          "base_uri": "https://localhost:8080/"
        },
        "id": "tkzHm2v-GTu0",
        "outputId": "55990706-7413-49ae-8d7d-b3086cc9422a"
      },
      "source": [
        "x.shape"
      ],
      "execution_count": null,
      "outputs": [
        {
          "output_type": "execute_result",
          "data": {
            "text/plain": [
              "(2, 2, 3)"
            ]
          },
          "metadata": {
            "tags": []
          },
          "execution_count": 48
        }
      ]
    },
    {
      "cell_type": "markdown",
      "metadata": {
        "id": "yMBNz_rSGwYO"
      },
      "source": [
        "## Typy danych"
      ]
    },
    {
      "cell_type": "code",
      "metadata": {
        "colab": {
          "base_uri": "https://localhost:8080/"
        },
        "id": "T09Yn8QMGU7Z",
        "outputId": "408914d6-e7b0-415c-e3fe-8829f10fe657"
      },
      "source": [
        "a = np.array([1, 2, 3])\n",
        "a.dtype"
      ],
      "execution_count": null,
      "outputs": [
        {
          "output_type": "execute_result",
          "data": {
            "text/plain": [
              "dtype('int64')"
            ]
          },
          "metadata": {
            "tags": []
          },
          "execution_count": 5
        }
      ]
    },
    {
      "cell_type": "code",
      "metadata": {
        "colab": {
          "base_uri": "https://localhost:8080/"
        },
        "id": "ek8DmjVPG69P",
        "outputId": "7da480a8-6a3d-40f6-e399-2f1b5cd731ae"
      },
      "source": [
        "a = np.array([1.0, 2.3, 3.3])\n",
        "a.dtype"
      ],
      "execution_count": null,
      "outputs": [
        {
          "output_type": "execute_result",
          "data": {
            "text/plain": [
              "dtype('float64')"
            ]
          },
          "metadata": {
            "tags": []
          },
          "execution_count": 7
        }
      ]
    },
    {
      "cell_type": "code",
      "metadata": {
        "colab": {
          "base_uri": "https://localhost:8080/"
        },
        "id": "WUYjK9L0HRnv",
        "outputId": "86d93267-e5fa-4717-e213-b932e2a5aa72"
      },
      "source": [
        "a = np.array([1, 2, 3], dtype='float')\n",
        "a.dtype"
      ],
      "execution_count": null,
      "outputs": [
        {
          "output_type": "execute_result",
          "data": {
            "text/plain": [
              "dtype('float64')"
            ]
          },
          "metadata": {
            "tags": []
          },
          "execution_count": 8
        }
      ]
    },
    {
      "cell_type": "code",
      "metadata": {
        "colab": {
          "base_uri": "https://localhost:8080/"
        },
        "id": "zzHD1nUfHYBw",
        "outputId": "2fabd8a9-834b-424f-c51c-76baa604a22c"
      },
      "source": [
        "a = np.array([1.0, 2.3, 3.3], dtype='int')\n",
        "a.dtype"
      ],
      "execution_count": null,
      "outputs": [
        {
          "output_type": "execute_result",
          "data": {
            "text/plain": [
              "dtype('int64')"
            ]
          },
          "metadata": {
            "tags": []
          },
          "execution_count": 9
        }
      ]
    },
    {
      "cell_type": "code",
      "metadata": {
        "colab": {
          "base_uri": "https://localhost:8080/"
        },
        "id": "0W86M0deHe9l",
        "outputId": "79a9e889-4caf-4836-8e83-aa6c3071f636"
      },
      "source": [
        "a"
      ],
      "execution_count": null,
      "outputs": [
        {
          "output_type": "execute_result",
          "data": {
            "text/plain": [
              "array([1, 2, 3])"
            ]
          },
          "metadata": {
            "tags": []
          },
          "execution_count": 11
        }
      ]
    },
    {
      "cell_type": "code",
      "metadata": {
        "colab": {
          "base_uri": "https://localhost:8080/"
        },
        "id": "XR6WqnA_HgDE",
        "outputId": "25a3a6b0-080f-425c-dd88-3643d37e8848"
      },
      "source": [
        "a = np.array([1.0, 2, 3.3], 'complex')\n",
        "a.dtype"
      ],
      "execution_count": null,
      "outputs": [
        {
          "output_type": "execute_result",
          "data": {
            "text/plain": [
              "dtype('complex128')"
            ]
          },
          "metadata": {
            "tags": []
          },
          "execution_count": 13
        }
      ]
    },
    {
      "cell_type": "code",
      "metadata": {
        "colab": {
          "base_uri": "https://localhost:8080/"
        },
        "id": "q2UsV9ITHoEC",
        "outputId": "075cdc0b-9e52-41e0-b313-217bcf9b7460"
      },
      "source": [
        "a = np.array([True, False])\n",
        "a.dtype"
      ],
      "execution_count": null,
      "outputs": [
        {
          "output_type": "execute_result",
          "data": {
            "text/plain": [
              "dtype('bool')"
            ]
          },
          "metadata": {
            "tags": []
          },
          "execution_count": 14
        }
      ]
    },
    {
      "cell_type": "code",
      "metadata": {
        "colab": {
          "base_uri": "https://localhost:8080/"
        },
        "id": "fNYk_hP1HzuN",
        "outputId": "606325fe-ba88-4ac1-cb6e-d0cfb1fdd4dd"
      },
      "source": [
        "a = np.array([24, 12.1, False])\n",
        "a.dtype"
      ],
      "execution_count": null,
      "outputs": [
        {
          "output_type": "execute_result",
          "data": {
            "text/plain": [
              "dtype('float64')"
            ]
          },
          "metadata": {
            "tags": []
          },
          "execution_count": 16
        }
      ]
    },
    {
      "cell_type": "code",
      "metadata": {
        "colab": {
          "base_uri": "https://localhost:8080/"
        },
        "id": "q0_RsaTgICdG",
        "outputId": "2f82e9b9-7b4a-4e02-b368-687a14c1af39"
      },
      "source": [
        "a[2]"
      ],
      "execution_count": null,
      "outputs": [
        {
          "output_type": "execute_result",
          "data": {
            "text/plain": [
              "0.0"
            ]
          },
          "metadata": {
            "tags": []
          },
          "execution_count": 17
        }
      ]
    },
    {
      "cell_type": "code",
      "metadata": {
        "colab": {
          "base_uri": "https://localhost:8080/"
        },
        "id": "gatvoUfqIH6y",
        "outputId": "11271077-f461-427a-920c-6e27c60b46e2"
      },
      "source": [
        "a = np.array([24, 120, -280], dtype=np.int8)\n",
        "a.dtype"
      ],
      "execution_count": null,
      "outputs": [
        {
          "output_type": "execute_result",
          "data": {
            "text/plain": [
              "dtype('int8')"
            ]
          },
          "metadata": {
            "tags": []
          },
          "execution_count": 27
        }
      ]
    },
    {
      "cell_type": "code",
      "metadata": {
        "colab": {
          "base_uri": "https://localhost:8080/"
        },
        "id": "swq1MdC_IQeD",
        "outputId": "8172c5fc-c089-4b35-c957-4693e8f36d20"
      },
      "source": [
        "a[2]"
      ],
      "execution_count": null,
      "outputs": [
        {
          "output_type": "execute_result",
          "data": {
            "text/plain": [
              "-24"
            ]
          },
          "metadata": {
            "tags": []
          },
          "execution_count": 28
        }
      ]
    },
    {
      "cell_type": "markdown",
      "metadata": {
        "id": "UY3Zbkk1IiOZ"
      },
      "source": [
        "## Tworzenie tablic"
      ]
    },
    {
      "cell_type": "code",
      "metadata": {
        "colab": {
          "base_uri": "https://localhost:8080/"
        },
        "id": "P_rQTJh2Ig-F",
        "outputId": "d70ab2af-46fc-484d-e4e3-755925e1b9a7"
      },
      "source": [
        "m = np.zeros(shape=(4, 10))\n",
        "m"
      ],
      "execution_count": null,
      "outputs": [
        {
          "output_type": "execute_result",
          "data": {
            "text/plain": [
              "array([[0., 0., 0., 0., 0., 0., 0., 0., 0., 0.],\n",
              "       [0., 0., 0., 0., 0., 0., 0., 0., 0., 0.],\n",
              "       [0., 0., 0., 0., 0., 0., 0., 0., 0., 0.],\n",
              "       [0., 0., 0., 0., 0., 0., 0., 0., 0., 0.]])"
            ]
          },
          "metadata": {
            "tags": []
          },
          "execution_count": 2
        }
      ]
    },
    {
      "cell_type": "code",
      "metadata": {
        "colab": {
          "base_uri": "https://localhost:8080/"
        },
        "id": "m9QpOUbVI2x8",
        "outputId": "d75c20ab-1b6d-452d-cd5a-287af2b962e3"
      },
      "source": [
        "m = np.zeros(shape=(4, 10), dtype=int)\n",
        "m"
      ],
      "execution_count": null,
      "outputs": [
        {
          "output_type": "execute_result",
          "data": {
            "text/plain": [
              "array([[0, 0, 0, 0, 0, 0, 0, 0, 0, 0],\n",
              "       [0, 0, 0, 0, 0, 0, 0, 0, 0, 0],\n",
              "       [0, 0, 0, 0, 0, 0, 0, 0, 0, 0],\n",
              "       [0, 0, 0, 0, 0, 0, 0, 0, 0, 0]])"
            ]
          },
          "metadata": {
            "tags": []
          },
          "execution_count": 3
        }
      ]
    },
    {
      "cell_type": "code",
      "metadata": {
        "colab": {
          "base_uri": "https://localhost:8080/"
        },
        "id": "5uAdM4uKSw-1",
        "outputId": "48c24bb1-2369-422f-9224-196d70c9bd0c"
      },
      "source": [
        "m = np.ones(shape=(5, 5))\n",
        "m"
      ],
      "execution_count": 3,
      "outputs": [
        {
          "output_type": "execute_result",
          "data": {
            "text/plain": [
              "array([[1., 1., 1., 1., 1.],\n",
              "       [1., 1., 1., 1., 1.],\n",
              "       [1., 1., 1., 1., 1.],\n",
              "       [1., 1., 1., 1., 1.],\n",
              "       [1., 1., 1., 1., 1.]])"
            ]
          },
          "metadata": {
            "tags": []
          },
          "execution_count": 3
        }
      ]
    },
    {
      "cell_type": "code",
      "metadata": {
        "colab": {
          "base_uri": "https://localhost:8080/"
        },
        "id": "bsdp4QvATC0h",
        "outputId": "9e29e64f-bb36-475f-8d51-967fc6461534"
      },
      "source": [
        "np.full(shape=(3, 3), fill_value=5, dtype=int)"
      ],
      "execution_count": 5,
      "outputs": [
        {
          "output_type": "execute_result",
          "data": {
            "text/plain": [
              "array([[5, 5, 5],\n",
              "       [5, 5, 5],\n",
              "       [5, 5, 5]])"
            ]
          },
          "metadata": {
            "tags": []
          },
          "execution_count": 5
        }
      ]
    },
    {
      "cell_type": "code",
      "metadata": {
        "colab": {
          "base_uri": "https://localhost:8080/"
        },
        "id": "OtuNG1qzTQ4I",
        "outputId": "6cb74364-71fb-44b4-96d3-06c968d8bd0a"
      },
      "source": [
        "np.arange(10)"
      ],
      "execution_count": 7,
      "outputs": [
        {
          "output_type": "execute_result",
          "data": {
            "text/plain": [
              "array([0, 1, 2, 3, 4, 5, 6, 7, 8, 9])"
            ]
          },
          "metadata": {
            "tags": []
          },
          "execution_count": 7
        }
      ]
    },
    {
      "cell_type": "code",
      "metadata": {
        "colab": {
          "base_uri": "https://localhost:8080/"
        },
        "id": "WwceBBs9TXOg",
        "outputId": "b839e3c4-40dd-4bfb-f2e7-c952dabb0895"
      },
      "source": [
        "np.arange(start=3, stop=10)"
      ],
      "execution_count": 8,
      "outputs": [
        {
          "output_type": "execute_result",
          "data": {
            "text/plain": [
              "array([3, 4, 5, 6, 7, 8, 9])"
            ]
          },
          "metadata": {
            "tags": []
          },
          "execution_count": 8
        }
      ]
    },
    {
      "cell_type": "code",
      "metadata": {
        "colab": {
          "base_uri": "https://localhost:8080/"
        },
        "id": "gaiUvb0KTbqE",
        "outputId": "dec65a94-7426-4b2e-dcc2-a6018d379d92"
      },
      "source": [
        "np.arange(start=0, stop=100, step=20)"
      ],
      "execution_count": 10,
      "outputs": [
        {
          "output_type": "execute_result",
          "data": {
            "text/plain": [
              "array([ 0, 20, 40, 60, 80])"
            ]
          },
          "metadata": {
            "tags": []
          },
          "execution_count": 10
        }
      ]
    },
    {
      "cell_type": "code",
      "metadata": {
        "colab": {
          "base_uri": "https://localhost:8080/"
        },
        "id": "pyOk9LHhTv8R",
        "outputId": "f065c6d5-aee3-4cea-9240-233192a58cff"
      },
      "source": [
        "np.linspace(start=0, stop=1)"
      ],
      "execution_count": 11,
      "outputs": [
        {
          "output_type": "execute_result",
          "data": {
            "text/plain": [
              "array([0.        , 0.02040816, 0.04081633, 0.06122449, 0.08163265,\n",
              "       0.10204082, 0.12244898, 0.14285714, 0.16326531, 0.18367347,\n",
              "       0.20408163, 0.2244898 , 0.24489796, 0.26530612, 0.28571429,\n",
              "       0.30612245, 0.32653061, 0.34693878, 0.36734694, 0.3877551 ,\n",
              "       0.40816327, 0.42857143, 0.44897959, 0.46938776, 0.48979592,\n",
              "       0.51020408, 0.53061224, 0.55102041, 0.57142857, 0.59183673,\n",
              "       0.6122449 , 0.63265306, 0.65306122, 0.67346939, 0.69387755,\n",
              "       0.71428571, 0.73469388, 0.75510204, 0.7755102 , 0.79591837,\n",
              "       0.81632653, 0.83673469, 0.85714286, 0.87755102, 0.89795918,\n",
              "       0.91836735, 0.93877551, 0.95918367, 0.97959184, 1.        ])"
            ]
          },
          "metadata": {
            "tags": []
          },
          "execution_count": 11
        }
      ]
    },
    {
      "cell_type": "code",
      "metadata": {
        "colab": {
          "base_uri": "https://localhost:8080/"
        },
        "id": "jzGg9a5ZUOEZ",
        "outputId": "64859837-7a1d-4ddd-b01b-e65f3a46e7da"
      },
      "source": [
        "np.linspace(start=0, stop=1, num=3)"
      ],
      "execution_count": 12,
      "outputs": [
        {
          "output_type": "execute_result",
          "data": {
            "text/plain": [
              "array([0. , 0.5, 1. ])"
            ]
          },
          "metadata": {
            "tags": []
          },
          "execution_count": 12
        }
      ]
    },
    {
      "cell_type": "code",
      "metadata": {
        "colab": {
          "base_uri": "https://localhost:8080/"
        },
        "id": "J9NKJJchUT7p",
        "outputId": "39b33468-cbec-44c7-cfe8-a69e5acdfd7e"
      },
      "source": [
        "a = np.arange(6)\n",
        "a"
      ],
      "execution_count": 25,
      "outputs": [
        {
          "output_type": "execute_result",
          "data": {
            "text/plain": [
              "array([0, 1, 2, 3, 4, 5])"
            ]
          },
          "metadata": {
            "tags": []
          },
          "execution_count": 25
        }
      ]
    },
    {
      "cell_type": "code",
      "metadata": {
        "colab": {
          "base_uri": "https://localhost:8080/"
        },
        "id": "SN_PFqvmVJFN",
        "outputId": "27bfb344-0145-4eff-cf8e-b7b918105036"
      },
      "source": [
        "a.reshape((2, 3))"
      ],
      "execution_count": 29,
      "outputs": [
        {
          "output_type": "execute_result",
          "data": {
            "text/plain": [
              "array([[0, 1, 2],\n",
              "       [3, 4, 5]])"
            ]
          },
          "metadata": {
            "tags": []
          },
          "execution_count": 29
        }
      ]
    },
    {
      "cell_type": "markdown",
      "metadata": {
        "id": "vD6wCra5V7d4"
      },
      "source": [
        "## Operacje na tablicach"
      ]
    },
    {
      "cell_type": "code",
      "metadata": {
        "id": "_9RJR7IoV0wb"
      },
      "source": [
        "a = np.arange(start=0, stop=6)\n",
        "b = np.arange(start=4, stop=10)"
      ],
      "execution_count": 32,
      "outputs": []
    },
    {
      "cell_type": "code",
      "metadata": {
        "colab": {
          "base_uri": "https://localhost:8080/"
        },
        "id": "NovkRNuBWJYf",
        "outputId": "4eca1791-dc0b-4d51-c7aa-48618257ee80"
      },
      "source": [
        "np.add(a, b)"
      ],
      "execution_count": 33,
      "outputs": [
        {
          "output_type": "execute_result",
          "data": {
            "text/plain": [
              "array([ 4,  6,  8, 10, 12, 14])"
            ]
          },
          "metadata": {
            "tags": []
          },
          "execution_count": 33
        }
      ]
    },
    {
      "cell_type": "code",
      "metadata": {
        "colab": {
          "base_uri": "https://localhost:8080/"
        },
        "id": "I9gBnnyqWc6W",
        "outputId": "6fcc9c4d-7516-4838-ec76-29b9a8094e25"
      },
      "source": [
        "np.subtract(a, b)"
      ],
      "execution_count": 35,
      "outputs": [
        {
          "output_type": "execute_result",
          "data": {
            "text/plain": [
              "array([-4, -4, -4, -4, -4, -4])"
            ]
          },
          "metadata": {
            "tags": []
          },
          "execution_count": 35
        }
      ]
    },
    {
      "cell_type": "code",
      "metadata": {
        "colab": {
          "base_uri": "https://localhost:8080/"
        },
        "id": "Jwe8cV6bWfS9",
        "outputId": "b05e1e45-1068-4176-e1a2-61da5a5fd240"
      },
      "source": [
        "np.divide(a, b)"
      ],
      "execution_count": 36,
      "outputs": [
        {
          "output_type": "execute_result",
          "data": {
            "text/plain": [
              "array([0.        , 0.2       , 0.33333333, 0.42857143, 0.5       ,\n",
              "       0.55555556])"
            ]
          },
          "metadata": {
            "tags": []
          },
          "execution_count": 36
        }
      ]
    },
    {
      "cell_type": "code",
      "metadata": {
        "colab": {
          "base_uri": "https://localhost:8080/"
        },
        "id": "Swapc-sVWjDG",
        "outputId": "5b8fa14b-a825-46ea-959b-6800d39ff5fa"
      },
      "source": [
        "a * 3"
      ],
      "execution_count": 37,
      "outputs": [
        {
          "output_type": "execute_result",
          "data": {
            "text/plain": [
              "array([ 0,  3,  6,  9, 12, 15])"
            ]
          },
          "metadata": {
            "tags": []
          },
          "execution_count": 37
        }
      ]
    },
    {
      "cell_type": "code",
      "metadata": {
        "colab": {
          "base_uri": "https://localhost:8080/"
        },
        "id": "8nb3xochWoJ8",
        "outputId": "5c2e1a6e-bbfb-48ae-b2fb-36cf96d751aa"
      },
      "source": [
        "b ** 2"
      ],
      "execution_count": 38,
      "outputs": [
        {
          "output_type": "execute_result",
          "data": {
            "text/plain": [
              "array([16, 25, 36, 49, 64, 81])"
            ]
          },
          "metadata": {
            "tags": []
          },
          "execution_count": 38
        }
      ]
    },
    {
      "cell_type": "code",
      "metadata": {
        "colab": {
          "base_uri": "https://localhost:8080/"
        },
        "id": "Idm7jy63WpWT",
        "outputId": "5e02f36f-4ad2-4162-e9ea-08c25d4a6bf1"
      },
      "source": [
        "a + b*b"
      ],
      "execution_count": 40,
      "outputs": [
        {
          "output_type": "execute_result",
          "data": {
            "text/plain": [
              "array([16, 26, 38, 52, 68, 86])"
            ]
          },
          "metadata": {
            "tags": []
          },
          "execution_count": 40
        }
      ]
    },
    {
      "cell_type": "code",
      "metadata": {
        "colab": {
          "base_uri": "https://localhost:8080/"
        },
        "id": "BfDibKJFWtm1",
        "outputId": "4b0ee2de-d886-4f81-ad52-370a3e7ee095"
      },
      "source": [
        "a = np.array([3, 1, 4, 2])\n",
        "b = np.array([3, -1, 3, 3])\n",
        "\n",
        "print(a)\n",
        "print(b)"
      ],
      "execution_count": 41,
      "outputs": [
        {
          "output_type": "stream",
          "text": [
            "[3 1 4 2]\n",
            "[ 3 -1  3  3]\n"
          ],
          "name": "stdout"
        }
      ]
    },
    {
      "cell_type": "markdown",
      "metadata": {
        "id": "Fojh3ltCZN0A"
      },
      "source": [
        "## Generowanie liczb pseudolosowych"
      ]
    },
    {
      "cell_type": "code",
      "metadata": {
        "id": "oozKm6YxXDIG"
      },
      "source": [
        "np.random.seed(0)"
      ],
      "execution_count": 45,
      "outputs": []
    },
    {
      "cell_type": "code",
      "metadata": {
        "colab": {
          "base_uri": "https://localhost:8080/"
        },
        "id": "YNb1xyrWYynG",
        "outputId": "c38fd1b1-34be-4a3f-cb90-a8c101374298"
      },
      "source": [
        "np.random.rand()"
      ],
      "execution_count": 46,
      "outputs": [
        {
          "output_type": "execute_result",
          "data": {
            "text/plain": [
              "0.5488135039273248"
            ]
          },
          "metadata": {
            "tags": []
          },
          "execution_count": 46
        }
      ]
    },
    {
      "cell_type": "code",
      "metadata": {
        "colab": {
          "base_uri": "https://localhost:8080/"
        },
        "id": "PxU1Ez8WYzx9",
        "outputId": "2dccc389-8981-43c9-ffec-b68cf953671e"
      },
      "source": [
        "np.random.randn(10)"
      ],
      "execution_count": 51,
      "outputs": [
        {
          "output_type": "execute_result",
          "data": {
            "text/plain": [
              "array([ 1.17877957, -0.17992484, -1.07075262,  1.05445173, -0.40317695,\n",
              "        1.22244507,  0.20827498,  0.97663904,  0.3563664 ,  0.70657317])"
            ]
          },
          "metadata": {
            "tags": []
          },
          "execution_count": 51
        }
      ]
    },
    {
      "cell_type": "code",
      "metadata": {
        "colab": {
          "base_uri": "https://localhost:8080/"
        },
        "id": "tqfSHz7IY1VT",
        "outputId": "6b20083e-33c9-442d-fc93-c10f8c01d146"
      },
      "source": [
        "np.random.randn(10, 4)"
      ],
      "execution_count": 49,
      "outputs": [
        {
          "output_type": "execute_result",
          "data": {
            "text/plain": [
              "array([[-0.22593966, -1.65457077, -0.63972264, -0.4794198 ],\n",
              "       [ 0.3113635 , -0.77602047, -0.30736481, -0.36652394],\n",
              "       [ 1.11971196, -0.45792242,  0.4253934 , -0.02797118],\n",
              "       [ 1.47598983,  0.6467801 , -0.36433431, -0.67877739],\n",
              "       [-0.35362786, -0.74074747, -0.67502183, -0.13278426],\n",
              "       [ 0.61980106,  1.79116846,  0.17100044, -1.72567135],\n",
              "       [ 0.16065854, -0.85898532, -0.20642094,  0.48842647],\n",
              "       [-0.83833097,  0.38116374, -0.99090328,  1.01788005],\n",
              "       [ 0.3415874 , -1.25088622,  0.92525075, -0.90478616],\n",
              "       [ 1.84369153,  1.52550724, -1.44553558,  0.37716061]])"
            ]
          },
          "metadata": {
            "tags": []
          },
          "execution_count": 49
        }
      ]
    },
    {
      "cell_type": "code",
      "metadata": {
        "colab": {
          "base_uri": "https://localhost:8080/"
        },
        "id": "ecJSlFuXY3e4",
        "outputId": "1a9377dd-caa3-43a3-a09c-19fefe16b2b0"
      },
      "source": [
        "np.random.rand()"
      ],
      "execution_count": 50,
      "outputs": [
        {
          "output_type": "execute_result",
          "data": {
            "text/plain": [
              "0.952749011516985"
            ]
          },
          "metadata": {
            "tags": []
          },
          "execution_count": 50
        }
      ]
    },
    {
      "cell_type": "code",
      "metadata": {
        "colab": {
          "base_uri": "https://localhost:8080/"
        },
        "id": "pb6mORXJY_C0",
        "outputId": "d9f5c843-1bcb-4bf2-e765-b9865fd91a7b"
      },
      "source": [
        "np.random.randn(10, 2, 3)"
      ],
      "execution_count": 54,
      "outputs": [
        {
          "output_type": "execute_result",
          "data": {
            "text/plain": [
              "array([[[ 0.01050002,  1.78587049,  0.12691209],\n",
              "        [ 0.40198936,  1.8831507 , -1.34775906]],\n",
              "\n",
              "       [[-1.270485  ,  0.96939671, -1.17312341],\n",
              "        [ 1.94362119, -0.41361898, -0.74745481]],\n",
              "\n",
              "       [[ 1.92294203,  1.48051479,  1.86755896],\n",
              "        [ 0.90604466, -0.86122569,  1.91006495]],\n",
              "\n",
              "       [[-0.26800337,  0.8024564 ,  0.94725197],\n",
              "        [-0.15501009,  0.61407937,  0.92220667]],\n",
              "\n",
              "       [[ 0.37642553, -1.09940079,  0.29823817],\n",
              "        [ 1.3263859 , -0.69456786, -0.14963454]],\n",
              "\n",
              "       [[-0.43515355,  1.84926373,  0.67229476],\n",
              "        [ 0.40746184, -0.76991607,  0.53924919]],\n",
              "\n",
              "       [[-0.67433266,  0.03183056, -0.63584608],\n",
              "        [ 0.67643329,  0.57659082, -0.20829876]],\n",
              "\n",
              "       [[ 0.39600671, -1.09306151, -1.49125759],\n",
              "        [ 0.4393917 ,  0.1666735 ,  0.63503144]],\n",
              "\n",
              "       [[ 2.38314477,  0.94447949, -0.91282223],\n",
              "        [ 1.11701629, -1.31590741, -0.4615846 ]],\n",
              "\n",
              "       [[-0.06824161,  1.71334272, -0.74475482],\n",
              "        [-0.82643854, -0.09845252, -0.66347829]]])"
            ]
          },
          "metadata": {
            "tags": []
          },
          "execution_count": 54
        }
      ]
    },
    {
      "cell_type": "code",
      "metadata": {
        "colab": {
          "base_uri": "https://localhost:8080/"
        },
        "id": "gxS6mwmGZWXO",
        "outputId": "09893ea0-af2c-4ce1-f572-bd5809166582"
      },
      "source": [
        "np.random.randint(low=10, high=101, size=(2, 2))"
      ],
      "execution_count": 56,
      "outputs": [
        {
          "output_type": "execute_result",
          "data": {
            "text/plain": [
              "array([[93, 59],\n",
              "       [51, 56]])"
            ]
          },
          "metadata": {
            "tags": []
          },
          "execution_count": 56
        }
      ]
    },
    {
      "cell_type": "code",
      "metadata": {
        "colab": {
          "base_uri": "https://localhost:8080/"
        },
        "id": "asmhq7DxZxPO",
        "outputId": "9d966bae-1413-4e4c-92d1-bc1227eac7e8"
      },
      "source": [
        "np.random.choice([5, 10, 14, 23])"
      ],
      "execution_count": 65,
      "outputs": [
        {
          "output_type": "execute_result",
          "data": {
            "text/plain": [
              "10"
            ]
          },
          "metadata": {
            "tags": []
          },
          "execution_count": 65
        }
      ]
    },
    {
      "cell_type": "code",
      "metadata": {
        "colab": {
          "base_uri": "https://localhost:8080/",
          "height": 35
        },
        "id": "LbNhFpOgZz22",
        "outputId": "6e75081d-4af0-46d8-e8fc-2cd99a1ac707"
      },
      "source": [
        "np.random.choice(['Python', 'Java', 'Kotlin', 'C++', 'JavaScript', 'Swift'])"
      ],
      "execution_count": 63,
      "outputs": [
        {
          "output_type": "execute_result",
          "data": {
            "application/vnd.google.colaboratory.intrinsic+json": {
              "type": "string"
            },
            "text/plain": [
              "'Python'"
            ]
          },
          "metadata": {
            "tags": []
          },
          "execution_count": 63
        }
      ]
    },
    {
      "cell_type": "code",
      "metadata": {
        "colab": {
          "base_uri": "https://localhost:8080/"
        },
        "id": "imbyXcWCaCCW",
        "outputId": "a851c5a3-efa3-4ed4-b42e-2589aa69a974"
      },
      "source": [
        "data = np.arange(10)\n",
        "data"
      ],
      "execution_count": 66,
      "outputs": [
        {
          "output_type": "execute_result",
          "data": {
            "text/plain": [
              "array([0, 1, 2, 3, 4, 5, 6, 7, 8, 9])"
            ]
          },
          "metadata": {
            "tags": []
          },
          "execution_count": 66
        }
      ]
    },
    {
      "cell_type": "code",
      "metadata": {
        "colab": {
          "base_uri": "https://localhost:8080/"
        },
        "id": "BRlqI771aJI1",
        "outputId": "58029b09-511f-4253-fd52-ccf78da05c8c"
      },
      "source": [
        "np.random.shuffle(data)\n",
        "data"
      ],
      "execution_count": 69,
      "outputs": [
        {
          "output_type": "execute_result",
          "data": {
            "text/plain": [
              "array([4, 3, 8, 7, 2, 0, 6, 9, 1, 5])"
            ]
          },
          "metadata": {
            "tags": []
          },
          "execution_count": 69
        }
      ]
    },
    {
      "cell_type": "markdown",
      "metadata": {
        "id": "HXbnGz97aUVZ"
      },
      "source": [
        "## Funkcje w bibliotece NumPy"
      ]
    },
    {
      "cell_type": "code",
      "metadata": {
        "id": "RMbYMorsajit"
      },
      "source": [
        ""
      ],
      "execution_count": null,
      "outputs": []
    }
  ]
}